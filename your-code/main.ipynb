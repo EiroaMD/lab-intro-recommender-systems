{
 "cells": [
  {
   "cell_type": "markdown",
   "metadata": {},
   "source": [
    "# Intro to Recommender Systems Lab\n",
    "\n",
    "Complete the exercises below to solidify your knowledge and understanding of recommender systems.\n",
    "\n",
    "For this lab, we are going to be putting together a user similarity based recommender system in a step-by-step fashion. Our data set contains customer grocery purchases, and we will use similar purchase behavior to inform our recommender system. Our recommender system will generate 5 recommendations for each customer based on the purchases they have made."
   ]
  },
  {
   "cell_type": "code",
   "execution_count": 1,
   "metadata": {
    "ExecuteTime": {
     "end_time": "2019-09-17T14:41:08.593463Z",
     "start_time": "2019-09-17T14:41:08.338758Z"
    }
   },
   "outputs": [],
   "source": [
    "import pandas as pd\n",
    "from scipy.spatial.distance import pdist, squareform"
   ]
  },
  {
   "cell_type": "code",
   "execution_count": 2,
   "metadata": {
    "ExecuteTime": {
     "end_time": "2019-09-17T14:41:09.336588Z",
     "start_time": "2019-09-17T14:41:09.223327Z"
    }
   },
   "outputs": [],
   "source": [
    "data = pd.read_csv('../data/customer_product_sales.csv')"
   ]
  },
  {
   "cell_type": "code",
   "execution_count": 3,
   "metadata": {
    "ExecuteTime": {
     "end_time": "2019-09-17T14:41:09.450656Z",
     "start_time": "2019-09-17T14:41:09.434944Z"
    }
   },
   "outputs": [
    {
     "data": {
      "text/html": [
       "<div>\n",
       "<style scoped>\n",
       "    .dataframe tbody tr th:only-of-type {\n",
       "        vertical-align: middle;\n",
       "    }\n",
       "\n",
       "    .dataframe tbody tr th {\n",
       "        vertical-align: top;\n",
       "    }\n",
       "\n",
       "    .dataframe thead th {\n",
       "        text-align: right;\n",
       "    }\n",
       "</style>\n",
       "<table border=\"1\" class=\"dataframe\">\n",
       "  <thead>\n",
       "    <tr style=\"text-align: right;\">\n",
       "      <th></th>\n",
       "      <th>CustomerID</th>\n",
       "      <th>FirstName</th>\n",
       "      <th>LastName</th>\n",
       "      <th>SalesID</th>\n",
       "      <th>ProductID</th>\n",
       "      <th>ProductName</th>\n",
       "      <th>Quantity</th>\n",
       "    </tr>\n",
       "  </thead>\n",
       "  <tbody>\n",
       "    <tr>\n",
       "      <th>0</th>\n",
       "      <td>61288</td>\n",
       "      <td>Rosa</td>\n",
       "      <td>Andersen</td>\n",
       "      <td>134196</td>\n",
       "      <td>229</td>\n",
       "      <td>Bread - Hot Dog Buns</td>\n",
       "      <td>16</td>\n",
       "    </tr>\n",
       "    <tr>\n",
       "      <th>1</th>\n",
       "      <td>77352</td>\n",
       "      <td>Myron</td>\n",
       "      <td>Murray</td>\n",
       "      <td>6167892</td>\n",
       "      <td>229</td>\n",
       "      <td>Bread - Hot Dog Buns</td>\n",
       "      <td>20</td>\n",
       "    </tr>\n",
       "    <tr>\n",
       "      <th>2</th>\n",
       "      <td>40094</td>\n",
       "      <td>Susan</td>\n",
       "      <td>Stevenson</td>\n",
       "      <td>5970885</td>\n",
       "      <td>229</td>\n",
       "      <td>Bread - Hot Dog Buns</td>\n",
       "      <td>11</td>\n",
       "    </tr>\n",
       "    <tr>\n",
       "      <th>3</th>\n",
       "      <td>23548</td>\n",
       "      <td>Tricia</td>\n",
       "      <td>Vincent</td>\n",
       "      <td>6426954</td>\n",
       "      <td>229</td>\n",
       "      <td>Bread - Hot Dog Buns</td>\n",
       "      <td>6</td>\n",
       "    </tr>\n",
       "    <tr>\n",
       "      <th>4</th>\n",
       "      <td>78981</td>\n",
       "      <td>Scott</td>\n",
       "      <td>Burch</td>\n",
       "      <td>819094</td>\n",
       "      <td>229</td>\n",
       "      <td>Bread - Hot Dog Buns</td>\n",
       "      <td>20</td>\n",
       "    </tr>\n",
       "  </tbody>\n",
       "</table>\n",
       "</div>"
      ],
      "text/plain": [
       "   CustomerID FirstName   LastName  SalesID  ProductID           ProductName  \\\n",
       "0       61288      Rosa   Andersen   134196        229  Bread - Hot Dog Buns   \n",
       "1       77352     Myron     Murray  6167892        229  Bread - Hot Dog Buns   \n",
       "2       40094     Susan  Stevenson  5970885        229  Bread - Hot Dog Buns   \n",
       "3       23548    Tricia    Vincent  6426954        229  Bread - Hot Dog Buns   \n",
       "4       78981     Scott      Burch   819094        229  Bread - Hot Dog Buns   \n",
       "\n",
       "   Quantity  \n",
       "0        16  \n",
       "1        20  \n",
       "2        11  \n",
       "3         6  \n",
       "4        20  "
      ]
     },
     "execution_count": 3,
     "metadata": {},
     "output_type": "execute_result"
    }
   ],
   "source": [
    "data.head()"
   ]
  },
  {
   "cell_type": "code",
   "execution_count": 4,
   "metadata": {
    "ExecuteTime": {
     "end_time": "2019-09-17T14:41:12.223845Z",
     "start_time": "2019-09-17T14:41:12.220502Z"
    }
   },
   "outputs": [
    {
     "data": {
      "text/plain": [
       "(68584, 7)"
      ]
     },
     "execution_count": 4,
     "metadata": {},
     "output_type": "execute_result"
    }
   ],
   "source": [
    "data.shape"
   ]
  },
  {
   "cell_type": "markdown",
   "metadata": {},
   "source": [
    "## Step 1: Create a data frame that contains the total quantity of each product purchased by each customer.\n",
    "\n",
    "You will need to group by CustomerID and ProductName and then sum the Quantity field."
   ]
  },
  {
   "cell_type": "code",
   "execution_count": 5,
   "metadata": {
    "ExecuteTime": {
     "end_time": "2019-09-17T14:41:12.965329Z",
     "start_time": "2019-09-17T14:41:12.923873Z"
    }
   },
   "outputs": [],
   "source": [
    "s1 = data[['Quantity', 'CustomerID', 'ProductName']].groupby(['CustomerID', 'ProductName'], as_index=False).agg('sum')"
   ]
  },
  {
   "cell_type": "code",
   "execution_count": 7,
   "metadata": {
    "ExecuteTime": {
     "end_time": "2019-09-17T14:41:34.582264Z",
     "start_time": "2019-09-17T14:41:34.562321Z"
    }
   },
   "outputs": [
    {
     "data": {
      "text/html": [
       "<div>\n",
       "<style scoped>\n",
       "    .dataframe tbody tr th:only-of-type {\n",
       "        vertical-align: middle;\n",
       "    }\n",
       "\n",
       "    .dataframe tbody tr th {\n",
       "        vertical-align: top;\n",
       "    }\n",
       "\n",
       "    .dataframe thead th {\n",
       "        text-align: right;\n",
       "    }\n",
       "</style>\n",
       "<table border=\"1\" class=\"dataframe\">\n",
       "  <thead>\n",
       "    <tr style=\"text-align: right;\">\n",
       "      <th></th>\n",
       "      <th>CustomerID</th>\n",
       "      <th>ProductName</th>\n",
       "      <th>Quantity</th>\n",
       "    </tr>\n",
       "  </thead>\n",
       "  <tbody>\n",
       "    <tr>\n",
       "      <th>0</th>\n",
       "      <td>33</td>\n",
       "      <td>Apricots - Dried</td>\n",
       "      <td>1</td>\n",
       "    </tr>\n",
       "    <tr>\n",
       "      <th>1</th>\n",
       "      <td>33</td>\n",
       "      <td>Assorted Desserts</td>\n",
       "      <td>1</td>\n",
       "    </tr>\n",
       "    <tr>\n",
       "      <th>2</th>\n",
       "      <td>33</td>\n",
       "      <td>Bandage - Flexible Neon</td>\n",
       "      <td>1</td>\n",
       "    </tr>\n",
       "    <tr>\n",
       "      <th>3</th>\n",
       "      <td>33</td>\n",
       "      <td>Bar Mix - Pina Colada, 355 Ml</td>\n",
       "      <td>1</td>\n",
       "    </tr>\n",
       "    <tr>\n",
       "      <th>4</th>\n",
       "      <td>33</td>\n",
       "      <td>Beans - Kidney, Canned</td>\n",
       "      <td>1</td>\n",
       "    </tr>\n",
       "  </tbody>\n",
       "</table>\n",
       "</div>"
      ],
      "text/plain": [
       "   CustomerID                    ProductName  Quantity\n",
       "0          33               Apricots - Dried         1\n",
       "1          33              Assorted Desserts         1\n",
       "2          33        Bandage - Flexible Neon         1\n",
       "3          33  Bar Mix - Pina Colada, 355 Ml         1\n",
       "4          33         Beans - Kidney, Canned         1"
      ]
     },
     "execution_count": 7,
     "metadata": {},
     "output_type": "execute_result"
    }
   ],
   "source": [
    "s1.head()"
   ]
  },
  {
   "cell_type": "code",
   "execution_count": 9,
   "metadata": {
    "ExecuteTime": {
     "end_time": "2019-09-17T14:41:46.933724Z",
     "start_time": "2019-09-17T14:41:46.929575Z"
    }
   },
   "outputs": [
    {
     "data": {
      "text/plain": [
       "(63628, 3)"
      ]
     },
     "execution_count": 9,
     "metadata": {},
     "output_type": "execute_result"
    }
   ],
   "source": [
    "s1.shape"
   ]
  },
  {
   "cell_type": "markdown",
   "metadata": {},
   "source": [
    "## Step 2: Use the `pivot_table` method to create a product by customer matrix.\n",
    "\n",
    "The rows of the matrix should represent the products, the columns should represent the customers, and the values should be the quantities of each product purchased by each customer. You will also need to replace nulls with zeros, which you can do using the `fillna` method."
   ]
  },
  {
   "cell_type": "code",
   "execution_count": 12,
   "metadata": {
    "ExecuteTime": {
     "end_time": "2019-09-17T14:42:32.195102Z",
     "start_time": "2019-09-17T14:42:31.960333Z"
    }
   },
   "outputs": [
    {
     "data": {
      "text/html": [
       "<div>\n",
       "<style scoped>\n",
       "    .dataframe tbody tr th:only-of-type {\n",
       "        vertical-align: middle;\n",
       "    }\n",
       "\n",
       "    .dataframe tbody tr th {\n",
       "        vertical-align: top;\n",
       "    }\n",
       "\n",
       "    .dataframe thead th {\n",
       "        text-align: right;\n",
       "    }\n",
       "</style>\n",
       "<table border=\"1\" class=\"dataframe\">\n",
       "  <thead>\n",
       "    <tr style=\"text-align: right;\">\n",
       "      <th>ProductName</th>\n",
       "      <th>Anchovy Paste - 56 G Tube</th>\n",
       "      <th>Appetizer - Mini Egg Roll, Shrimp</th>\n",
       "      <th>Appetizer - Mushroom Tart</th>\n",
       "      <th>Appetizer - Sausage Rolls</th>\n",
       "      <th>Apricots - Dried</th>\n",
       "      <th>Apricots - Halves</th>\n",
       "      <th>Apricots Fresh</th>\n",
       "      <th>Arizona - Green Tea</th>\n",
       "      <th>Artichokes - Jerusalem</th>\n",
       "      <th>Assorted Desserts</th>\n",
       "      <th>...</th>\n",
       "      <th>Wine - White, Colubia Cresh</th>\n",
       "      <th>Wine - White, Mosel Gold</th>\n",
       "      <th>Wine - White, Schroder And Schyl</th>\n",
       "      <th>Wine - Wyndham Estate Bin 777</th>\n",
       "      <th>Wonton Wrappers</th>\n",
       "      <th>Yeast Dry - Fermipan</th>\n",
       "      <th>Yoghurt Tubes</th>\n",
       "      <th>Yogurt - Blueberry, 175 Gr</th>\n",
       "      <th>Yogurt - French Vanilla</th>\n",
       "      <th>Zucchini - Yellow</th>\n",
       "    </tr>\n",
       "    <tr>\n",
       "      <th>CustomerID</th>\n",
       "      <th></th>\n",
       "      <th></th>\n",
       "      <th></th>\n",
       "      <th></th>\n",
       "      <th></th>\n",
       "      <th></th>\n",
       "      <th></th>\n",
       "      <th></th>\n",
       "      <th></th>\n",
       "      <th></th>\n",
       "      <th></th>\n",
       "      <th></th>\n",
       "      <th></th>\n",
       "      <th></th>\n",
       "      <th></th>\n",
       "      <th></th>\n",
       "      <th></th>\n",
       "      <th></th>\n",
       "      <th></th>\n",
       "      <th></th>\n",
       "      <th></th>\n",
       "    </tr>\n",
       "  </thead>\n",
       "  <tbody>\n",
       "    <tr>\n",
       "      <th>33</th>\n",
       "      <td>0</td>\n",
       "      <td>0</td>\n",
       "      <td>0</td>\n",
       "      <td>0</td>\n",
       "      <td>1</td>\n",
       "      <td>0</td>\n",
       "      <td>0</td>\n",
       "      <td>0</td>\n",
       "      <td>0</td>\n",
       "      <td>1</td>\n",
       "      <td>...</td>\n",
       "      <td>0</td>\n",
       "      <td>0</td>\n",
       "      <td>0</td>\n",
       "      <td>0</td>\n",
       "      <td>0</td>\n",
       "      <td>0</td>\n",
       "      <td>0</td>\n",
       "      <td>0</td>\n",
       "      <td>1</td>\n",
       "      <td>0</td>\n",
       "    </tr>\n",
       "    <tr>\n",
       "      <th>200</th>\n",
       "      <td>0</td>\n",
       "      <td>0</td>\n",
       "      <td>0</td>\n",
       "      <td>0</td>\n",
       "      <td>0</td>\n",
       "      <td>0</td>\n",
       "      <td>0</td>\n",
       "      <td>0</td>\n",
       "      <td>0</td>\n",
       "      <td>0</td>\n",
       "      <td>...</td>\n",
       "      <td>1</td>\n",
       "      <td>0</td>\n",
       "      <td>0</td>\n",
       "      <td>0</td>\n",
       "      <td>0</td>\n",
       "      <td>0</td>\n",
       "      <td>0</td>\n",
       "      <td>1</td>\n",
       "      <td>0</td>\n",
       "      <td>0</td>\n",
       "    </tr>\n",
       "    <tr>\n",
       "      <th>264</th>\n",
       "      <td>0</td>\n",
       "      <td>0</td>\n",
       "      <td>0</td>\n",
       "      <td>0</td>\n",
       "      <td>0</td>\n",
       "      <td>1</td>\n",
       "      <td>1</td>\n",
       "      <td>0</td>\n",
       "      <td>0</td>\n",
       "      <td>0</td>\n",
       "      <td>...</td>\n",
       "      <td>0</td>\n",
       "      <td>0</td>\n",
       "      <td>0</td>\n",
       "      <td>1</td>\n",
       "      <td>0</td>\n",
       "      <td>0</td>\n",
       "      <td>0</td>\n",
       "      <td>0</td>\n",
       "      <td>0</td>\n",
       "      <td>0</td>\n",
       "    </tr>\n",
       "    <tr>\n",
       "      <th>356</th>\n",
       "      <td>0</td>\n",
       "      <td>0</td>\n",
       "      <td>0</td>\n",
       "      <td>0</td>\n",
       "      <td>0</td>\n",
       "      <td>0</td>\n",
       "      <td>0</td>\n",
       "      <td>0</td>\n",
       "      <td>0</td>\n",
       "      <td>0</td>\n",
       "      <td>...</td>\n",
       "      <td>0</td>\n",
       "      <td>0</td>\n",
       "      <td>0</td>\n",
       "      <td>0</td>\n",
       "      <td>0</td>\n",
       "      <td>0</td>\n",
       "      <td>0</td>\n",
       "      <td>0</td>\n",
       "      <td>1</td>\n",
       "      <td>0</td>\n",
       "    </tr>\n",
       "    <tr>\n",
       "      <th>412</th>\n",
       "      <td>0</td>\n",
       "      <td>0</td>\n",
       "      <td>0</td>\n",
       "      <td>0</td>\n",
       "      <td>1</td>\n",
       "      <td>0</td>\n",
       "      <td>0</td>\n",
       "      <td>0</td>\n",
       "      <td>0</td>\n",
       "      <td>0</td>\n",
       "      <td>...</td>\n",
       "      <td>0</td>\n",
       "      <td>1</td>\n",
       "      <td>1</td>\n",
       "      <td>1</td>\n",
       "      <td>0</td>\n",
       "      <td>0</td>\n",
       "      <td>0</td>\n",
       "      <td>0</td>\n",
       "      <td>0</td>\n",
       "      <td>0</td>\n",
       "    </tr>\n",
       "  </tbody>\n",
       "</table>\n",
       "<p>5 rows × 452 columns</p>\n",
       "</div>"
      ],
      "text/plain": [
       "ProductName  Anchovy Paste - 56 G Tube  Appetizer - Mini Egg Roll, Shrimp  \\\n",
       "CustomerID                                                                  \n",
       "33                                   0                                  0   \n",
       "200                                  0                                  0   \n",
       "264                                  0                                  0   \n",
       "356                                  0                                  0   \n",
       "412                                  0                                  0   \n",
       "\n",
       "ProductName  Appetizer - Mushroom Tart  Appetizer - Sausage Rolls  \\\n",
       "CustomerID                                                          \n",
       "33                                   0                          0   \n",
       "200                                  0                          0   \n",
       "264                                  0                          0   \n",
       "356                                  0                          0   \n",
       "412                                  0                          0   \n",
       "\n",
       "ProductName  Apricots - Dried  Apricots - Halves  Apricots Fresh  \\\n",
       "CustomerID                                                         \n",
       "33                          1                  0               0   \n",
       "200                         0                  0               0   \n",
       "264                         0                  1               1   \n",
       "356                         0                  0               0   \n",
       "412                         1                  0               0   \n",
       "\n",
       "ProductName  Arizona - Green Tea  Artichokes - Jerusalem  Assorted Desserts  \\\n",
       "CustomerID                                                                    \n",
       "33                             0                       0                  1   \n",
       "200                            0                       0                  0   \n",
       "264                            0                       0                  0   \n",
       "356                            0                       0                  0   \n",
       "412                            0                       0                  0   \n",
       "\n",
       "ProductName  ...  Wine - White, Colubia Cresh  Wine - White, Mosel Gold  \\\n",
       "CustomerID   ...                                                          \n",
       "33           ...                            0                         0   \n",
       "200          ...                            1                         0   \n",
       "264          ...                            0                         0   \n",
       "356          ...                            0                         0   \n",
       "412          ...                            0                         1   \n",
       "\n",
       "ProductName  Wine - White, Schroder And Schyl  Wine - Wyndham Estate Bin 777  \\\n",
       "CustomerID                                                                     \n",
       "33                                          0                              0   \n",
       "200                                         0                              0   \n",
       "264                                         0                              1   \n",
       "356                                         0                              0   \n",
       "412                                         1                              1   \n",
       "\n",
       "ProductName  Wonton Wrappers  Yeast Dry - Fermipan  Yoghurt Tubes  \\\n",
       "CustomerID                                                          \n",
       "33                         0                     0              0   \n",
       "200                        0                     0              0   \n",
       "264                        0                     0              0   \n",
       "356                        0                     0              0   \n",
       "412                        0                     0              0   \n",
       "\n",
       "ProductName  Yogurt - Blueberry, 175 Gr  Yogurt - French Vanilla  \\\n",
       "CustomerID                                                         \n",
       "33                                    0                        1   \n",
       "200                                   1                        0   \n",
       "264                                   0                        0   \n",
       "356                                   0                        1   \n",
       "412                                   0                        0   \n",
       "\n",
       "ProductName  Zucchini - Yellow  \n",
       "CustomerID                      \n",
       "33                           0  \n",
       "200                          0  \n",
       "264                          0  \n",
       "356                          0  \n",
       "412                          0  \n",
       "\n",
       "[5 rows x 452 columns]"
      ]
     },
     "execution_count": 12,
     "metadata": {},
     "output_type": "execute_result"
    }
   ],
   "source": [
    "s2 = pd.pivot_table(data, \n",
    "                    values='Quantity', \n",
    "                    columns='ProductName', \n",
    "                    index='CustomerID', \n",
    "                    aggfunc='sum', fill_value= 0.0)\n",
    "s2.head()"
   ]
  },
  {
   "cell_type": "markdown",
   "metadata": {},
   "source": [
    "## Step 3: Create a customer similarity matrix using `squareform` and `pdist`. For the distance metric, choose \"euclidean.\""
   ]
  },
  {
   "cell_type": "code",
   "execution_count": 13,
   "metadata": {
    "ExecuteTime": {
     "end_time": "2019-09-17T14:42:34.620299Z",
     "start_time": "2019-09-17T14:42:34.445676Z"
    }
   },
   "outputs": [
    {
     "data": {
      "text/plain": [
       "array([[  0.        ,  11.91637529,  10.48808848, ..., 228.62851966,\n",
       "        239.        , 229.77380181],\n",
       "       [ 11.91637529,   0.        ,  11.74734012, ..., 228.01096465,\n",
       "        239.03765394, 229.70415756],\n",
       "       [ 10.48808848,  11.74734012,   0.        , ..., 228.08112592,\n",
       "        238.26665734, 229.77380181],\n",
       "       ...,\n",
       "       [228.62851966, 228.01096465, 228.08112592, ...,   0.        ,\n",
       "        304.13812651, 305.16389039],\n",
       "       [239.        , 239.03765394, 238.26665734, ..., 304.13812651,\n",
       "          0.        , 303.10889132],\n",
       "       [229.77380181, 229.70415756, 229.77380181, ..., 305.16389039,\n",
       "        303.10889132,   0.        ]])"
      ]
     },
     "execution_count": 13,
     "metadata": {},
     "output_type": "execute_result"
    }
   ],
   "source": [
    "from scipy.spatial.distance import pdist, squareform\n",
    "# SQUAREFORM sirve para que mi output me lo dé en forma de matriz\n",
    "squareform(pdist(s2, 'euclidean'))"
   ]
  },
  {
   "cell_type": "code",
   "execution_count": 14,
   "metadata": {
    "ExecuteTime": {
     "end_time": "2019-09-17T14:42:36.485009Z",
     "start_time": "2019-09-17T14:42:36.297781Z"
    }
   },
   "outputs": [
    {
     "data": {
      "text/html": [
       "<div>\n",
       "<style scoped>\n",
       "    .dataframe tbody tr th:only-of-type {\n",
       "        vertical-align: middle;\n",
       "    }\n",
       "\n",
       "    .dataframe tbody tr th {\n",
       "        vertical-align: top;\n",
       "    }\n",
       "\n",
       "    .dataframe thead th {\n",
       "        text-align: right;\n",
       "    }\n",
       "</style>\n",
       "<table border=\"1\" class=\"dataframe\">\n",
       "  <thead>\n",
       "    <tr style=\"text-align: right;\">\n",
       "      <th>CustomerID</th>\n",
       "      <th>33</th>\n",
       "      <th>200</th>\n",
       "      <th>264</th>\n",
       "      <th>356</th>\n",
       "      <th>412</th>\n",
       "      <th>464</th>\n",
       "      <th>477</th>\n",
       "      <th>639</th>\n",
       "      <th>649</th>\n",
       "      <th>669</th>\n",
       "      <th>...</th>\n",
       "      <th>97697</th>\n",
       "      <th>97753</th>\n",
       "      <th>97769</th>\n",
       "      <th>97793</th>\n",
       "      <th>97900</th>\n",
       "      <th>97928</th>\n",
       "      <th>98069</th>\n",
       "      <th>98159</th>\n",
       "      <th>98185</th>\n",
       "      <th>98200</th>\n",
       "    </tr>\n",
       "    <tr>\n",
       "      <th>CustomerID</th>\n",
       "      <th></th>\n",
       "      <th></th>\n",
       "      <th></th>\n",
       "      <th></th>\n",
       "      <th></th>\n",
       "      <th></th>\n",
       "      <th></th>\n",
       "      <th></th>\n",
       "      <th></th>\n",
       "      <th></th>\n",
       "      <th></th>\n",
       "      <th></th>\n",
       "      <th></th>\n",
       "      <th></th>\n",
       "      <th></th>\n",
       "      <th></th>\n",
       "      <th></th>\n",
       "      <th></th>\n",
       "      <th></th>\n",
       "      <th></th>\n",
       "      <th></th>\n",
       "    </tr>\n",
       "  </thead>\n",
       "  <tbody>\n",
       "    <tr>\n",
       "      <th>33</th>\n",
       "      <td>1.000000</td>\n",
       "      <td>0.077421</td>\n",
       "      <td>0.087047</td>\n",
       "      <td>0.081800</td>\n",
       "      <td>0.080634</td>\n",
       "      <td>0.082709</td>\n",
       "      <td>0.074573</td>\n",
       "      <td>0.083020</td>\n",
       "      <td>0.081503</td>\n",
       "      <td>0.080070</td>\n",
       "      <td>...</td>\n",
       "      <td>0.004811</td>\n",
       "      <td>0.004669</td>\n",
       "      <td>0.004412</td>\n",
       "      <td>0.005019</td>\n",
       "      <td>0.004312</td>\n",
       "      <td>0.004515</td>\n",
       "      <td>0.004583</td>\n",
       "      <td>0.004355</td>\n",
       "      <td>0.004167</td>\n",
       "      <td>0.004333</td>\n",
       "    </tr>\n",
       "    <tr>\n",
       "      <th>200</th>\n",
       "      <td>0.077421</td>\n",
       "      <td>1.000000</td>\n",
       "      <td>0.078448</td>\n",
       "      <td>0.076435</td>\n",
       "      <td>0.073693</td>\n",
       "      <td>0.075255</td>\n",
       "      <td>0.075956</td>\n",
       "      <td>0.076435</td>\n",
       "      <td>0.077674</td>\n",
       "      <td>0.076923</td>\n",
       "      <td>...</td>\n",
       "      <td>0.004824</td>\n",
       "      <td>0.004681</td>\n",
       "      <td>0.004431</td>\n",
       "      <td>0.005047</td>\n",
       "      <td>0.004311</td>\n",
       "      <td>0.004521</td>\n",
       "      <td>0.004614</td>\n",
       "      <td>0.004367</td>\n",
       "      <td>0.004166</td>\n",
       "      <td>0.004335</td>\n",
       "    </tr>\n",
       "    <tr>\n",
       "      <th>264</th>\n",
       "      <td>0.087047</td>\n",
       "      <td>0.078448</td>\n",
       "      <td>1.000000</td>\n",
       "      <td>0.080070</td>\n",
       "      <td>0.081800</td>\n",
       "      <td>0.080350</td>\n",
       "      <td>0.076923</td>\n",
       "      <td>0.080634</td>\n",
       "      <td>0.082100</td>\n",
       "      <td>0.078448</td>\n",
       "      <td>...</td>\n",
       "      <td>0.004822</td>\n",
       "      <td>0.004674</td>\n",
       "      <td>0.004416</td>\n",
       "      <td>0.005035</td>\n",
       "      <td>0.004322</td>\n",
       "      <td>0.004543</td>\n",
       "      <td>0.004595</td>\n",
       "      <td>0.004365</td>\n",
       "      <td>0.004179</td>\n",
       "      <td>0.004333</td>\n",
       "    </tr>\n",
       "    <tr>\n",
       "      <th>356</th>\n",
       "      <td>0.081800</td>\n",
       "      <td>0.076435</td>\n",
       "      <td>0.080070</td>\n",
       "      <td>1.000000</td>\n",
       "      <td>0.076435</td>\n",
       "      <td>0.078187</td>\n",
       "      <td>0.075025</td>\n",
       "      <td>0.082403</td>\n",
       "      <td>0.077171</td>\n",
       "      <td>0.075956</td>\n",
       "      <td>...</td>\n",
       "      <td>0.004816</td>\n",
       "      <td>0.004671</td>\n",
       "      <td>0.004416</td>\n",
       "      <td>0.005038</td>\n",
       "      <td>0.004310</td>\n",
       "      <td>0.004526</td>\n",
       "      <td>0.004578</td>\n",
       "      <td>0.004365</td>\n",
       "      <td>0.004175</td>\n",
       "      <td>0.004339</td>\n",
       "    </tr>\n",
       "    <tr>\n",
       "      <th>412</th>\n",
       "      <td>0.080634</td>\n",
       "      <td>0.073693</td>\n",
       "      <td>0.081800</td>\n",
       "      <td>0.076435</td>\n",
       "      <td>1.000000</td>\n",
       "      <td>0.078711</td>\n",
       "      <td>0.075025</td>\n",
       "      <td>0.082403</td>\n",
       "      <td>0.078187</td>\n",
       "      <td>0.078448</td>\n",
       "      <td>...</td>\n",
       "      <td>0.004810</td>\n",
       "      <td>0.004702</td>\n",
       "      <td>0.004414</td>\n",
       "      <td>0.005034</td>\n",
       "      <td>0.004318</td>\n",
       "      <td>0.004530</td>\n",
       "      <td>0.004578</td>\n",
       "      <td>0.004367</td>\n",
       "      <td>0.004177</td>\n",
       "      <td>0.004349</td>\n",
       "    </tr>\n",
       "  </tbody>\n",
       "</table>\n",
       "<p>5 rows × 1000 columns</p>\n",
       "</div>"
      ],
      "text/plain": [
       "CustomerID     33        200       264       356       412       464    \\\n",
       "CustomerID                                                               \n",
       "33          1.000000  0.077421  0.087047  0.081800  0.080634  0.082709   \n",
       "200         0.077421  1.000000  0.078448  0.076435  0.073693  0.075255   \n",
       "264         0.087047  0.078448  1.000000  0.080070  0.081800  0.080350   \n",
       "356         0.081800  0.076435  0.080070  1.000000  0.076435  0.078187   \n",
       "412         0.080634  0.073693  0.081800  0.076435  1.000000  0.078711   \n",
       "\n",
       "CustomerID     477       639       649       669    ...     97697     97753  \\\n",
       "CustomerID                                          ...                       \n",
       "33          0.074573  0.083020  0.081503  0.080070  ...  0.004811  0.004669   \n",
       "200         0.075956  0.076435  0.077674  0.076923  ...  0.004824  0.004681   \n",
       "264         0.076923  0.080634  0.082100  0.078448  ...  0.004822  0.004674   \n",
       "356         0.075025  0.082403  0.077171  0.075956  ...  0.004816  0.004671   \n",
       "412         0.075025  0.082403  0.078187  0.078448  ...  0.004810  0.004702   \n",
       "\n",
       "CustomerID     97769     97793     97900     97928     98069     98159  \\\n",
       "CustomerID                                                               \n",
       "33          0.004412  0.005019  0.004312  0.004515  0.004583  0.004355   \n",
       "200         0.004431  0.005047  0.004311  0.004521  0.004614  0.004367   \n",
       "264         0.004416  0.005035  0.004322  0.004543  0.004595  0.004365   \n",
       "356         0.004416  0.005038  0.004310  0.004526  0.004578  0.004365   \n",
       "412         0.004414  0.005034  0.004318  0.004530  0.004578  0.004367   \n",
       "\n",
       "CustomerID     98185     98200  \n",
       "CustomerID                      \n",
       "33          0.004167  0.004333  \n",
       "200         0.004166  0.004335  \n",
       "264         0.004179  0.004333  \n",
       "356         0.004175  0.004339  \n",
       "412         0.004177  0.004349  \n",
       "\n",
       "[5 rows x 1000 columns]"
      ]
     },
     "execution_count": 14,
     "metadata": {},
     "output_type": "execute_result"
    }
   ],
   "source": [
    "distances = pd.DataFrame(1/(1 + squareform(pdist(s2, 'euclidean'))), \n",
    "                         index=s2.index, columns=s2.index)\n",
    "\n",
    "distances.head()"
   ]
  },
  {
   "cell_type": "markdown",
   "metadata": {},
   "source": [
    "## Step 4: Check your results by generating a list of the top 5 most similar customers for a specific CustomerID."
   ]
  },
  {
   "cell_type": "code",
   "execution_count": 29,
   "metadata": {
    "ExecuteTime": {
     "end_time": "2019-09-17T14:49:23.697203Z",
     "start_time": "2019-09-17T14:49:23.677426Z"
    }
   },
   "outputs": [
    {
     "data": {
      "text/plain": [
       "CustomerID\n",
       "3317    0.085638\n",
       "3535    0.084959\n",
       "1008    0.083333\n",
       "1072    0.082709\n",
       "639     0.082403\n",
       "Name: 412, dtype: float64"
      ]
     },
     "execution_count": 29,
     "metadata": {},
     "output_type": "execute_result"
    }
   ],
   "source": [
    "similarities = distances[412].sort_values(ascending=False)[1:6]\n",
    "similarities"
   ]
  },
  {
   "cell_type": "markdown",
   "metadata": {},
   "source": [
    "## Step 5: From the data frame you created in Step 1, select the records for the list of similar CustomerIDs you obtained in Step 4."
   ]
  },
  {
   "cell_type": "code",
   "execution_count": 17,
   "metadata": {
    "ExecuteTime": {
     "end_time": "2019-09-17T14:43:13.729126Z",
     "start_time": "2019-09-17T14:43:13.717202Z"
    }
   },
   "outputs": [
    {
     "data": {
      "text/html": [
       "<div>\n",
       "<style scoped>\n",
       "    .dataframe tbody tr th:only-of-type {\n",
       "        vertical-align: middle;\n",
       "    }\n",
       "\n",
       "    .dataframe tbody tr th {\n",
       "        vertical-align: top;\n",
       "    }\n",
       "\n",
       "    .dataframe thead th {\n",
       "        text-align: right;\n",
       "    }\n",
       "</style>\n",
       "<table border=\"1\" class=\"dataframe\">\n",
       "  <thead>\n",
       "    <tr style=\"text-align: right;\">\n",
       "      <th></th>\n",
       "      <th>CustomerID</th>\n",
       "      <th>ProductName</th>\n",
       "      <th>Quantity</th>\n",
       "    </tr>\n",
       "  </thead>\n",
       "  <tbody>\n",
       "    <tr>\n",
       "      <th>452</th>\n",
       "      <td>639</td>\n",
       "      <td>Anchovy Paste - 56 G Tube</td>\n",
       "      <td>1</td>\n",
       "    </tr>\n",
       "    <tr>\n",
       "      <th>453</th>\n",
       "      <td>639</td>\n",
       "      <td>Appetizer - Mushroom Tart</td>\n",
       "      <td>1</td>\n",
       "    </tr>\n",
       "    <tr>\n",
       "      <th>454</th>\n",
       "      <td>639</td>\n",
       "      <td>Assorted Desserts</td>\n",
       "      <td>1</td>\n",
       "    </tr>\n",
       "    <tr>\n",
       "      <th>455</th>\n",
       "      <td>639</td>\n",
       "      <td>Bread - Italian Roll With Herbs</td>\n",
       "      <td>1</td>\n",
       "    </tr>\n",
       "    <tr>\n",
       "      <th>456</th>\n",
       "      <td>639</td>\n",
       "      <td>Bread - Raisin Walnut Oval</td>\n",
       "      <td>1</td>\n",
       "    </tr>\n",
       "  </tbody>\n",
       "</table>\n",
       "</div>"
      ],
      "text/plain": [
       "     CustomerID                      ProductName  Quantity\n",
       "452         639        Anchovy Paste - 56 G Tube         1\n",
       "453         639        Appetizer - Mushroom Tart         1\n",
       "454         639                Assorted Desserts         1\n",
       "455         639  Bread - Italian Roll With Herbs         1\n",
       "456         639       Bread - Raisin Walnut Oval         1"
      ]
     },
     "execution_count": 17,
     "metadata": {},
     "output_type": "execute_result"
    }
   ],
   "source": [
    "s5 = s1.loc[s1.CustomerID.isin(list(similarities.index))]\n",
    "s5.head()"
   ]
  },
  {
   "cell_type": "markdown",
   "metadata": {},
   "source": [
    "## Step 6: Aggregate those customer purchase records by ProductName, sum the Quantity field, and then rank them in descending order by quantity.\n",
    "\n",
    "This will give you the total number of each product purchased by the 5 most similar customers to the customer you selected in order from most purchased to least."
   ]
  },
  {
   "cell_type": "code",
   "execution_count": 18,
   "metadata": {
    "ExecuteTime": {
     "end_time": "2019-09-17T14:43:25.383116Z",
     "start_time": "2019-09-17T14:43:25.365879Z"
    }
   },
   "outputs": [
    {
     "data": {
      "text/html": [
       "<div>\n",
       "<style scoped>\n",
       "    .dataframe tbody tr th:only-of-type {\n",
       "        vertical-align: middle;\n",
       "    }\n",
       "\n",
       "    .dataframe tbody tr th {\n",
       "        vertical-align: top;\n",
       "    }\n",
       "\n",
       "    .dataframe thead th {\n",
       "        text-align: right;\n",
       "    }\n",
       "</style>\n",
       "<table border=\"1\" class=\"dataframe\">\n",
       "  <thead>\n",
       "    <tr style=\"text-align: right;\">\n",
       "      <th></th>\n",
       "      <th>index</th>\n",
       "      <th>ProductName</th>\n",
       "      <th>Quantity</th>\n",
       "    </tr>\n",
       "  </thead>\n",
       "  <tbody>\n",
       "    <tr>\n",
       "      <th>0</th>\n",
       "      <td>123</td>\n",
       "      <td>Olive - Spread Tapenade</td>\n",
       "      <td>3</td>\n",
       "    </tr>\n",
       "    <tr>\n",
       "      <th>1</th>\n",
       "      <td>175</td>\n",
       "      <td>Sprouts - Baby Pea Tendrils</td>\n",
       "      <td>3</td>\n",
       "    </tr>\n",
       "    <tr>\n",
       "      <th>2</th>\n",
       "      <td>201</td>\n",
       "      <td>Wine - Blue Nun Qualitatswein</td>\n",
       "      <td>3</td>\n",
       "    </tr>\n",
       "    <tr>\n",
       "      <th>3</th>\n",
       "      <td>193</td>\n",
       "      <td>Veal - Inside, Choice</td>\n",
       "      <td>3</td>\n",
       "    </tr>\n",
       "    <tr>\n",
       "      <th>4</th>\n",
       "      <td>134</td>\n",
       "      <td>Pepper - Black, Whole</td>\n",
       "      <td>3</td>\n",
       "    </tr>\n",
       "  </tbody>\n",
       "</table>\n",
       "</div>"
      ],
      "text/plain": [
       "   index                    ProductName  Quantity\n",
       "0    123        Olive - Spread Tapenade         3\n",
       "1    175    Sprouts - Baby Pea Tendrils         3\n",
       "2    201  Wine - Blue Nun Qualitatswein         3\n",
       "3    193          Veal - Inside, Choice         3\n",
       "4    134          Pepper - Black, Whole         3"
      ]
     },
     "execution_count": 18,
     "metadata": {},
     "output_type": "execute_result"
    }
   ],
   "source": [
    "s6 = s5[['ProductName', 'Quantity']].groupby('ProductName', as_index=False).agg('sum').sort_values(by='Quantity', ascending=False).reset_index()\n",
    "s6.head()"
   ]
  },
  {
   "cell_type": "markdown",
   "metadata": {},
   "source": [
    "## Step 7: Filter the list for products that the chosen customer has not yet purchased and then recommend the top 5 products with the highest quantities that are left.\n",
    "\n",
    "- Merge the ranked products data frame with the customer product matrix on the ProductName field.\n",
    "- Filter for records where the chosen customer has not purchased the product.\n",
    "- Show the top 5 results."
   ]
  },
  {
   "cell_type": "code",
   "execution_count": 19,
   "metadata": {
    "ExecuteTime": {
     "end_time": "2019-09-17T14:43:28.287651Z",
     "start_time": "2019-09-17T14:43:28.257551Z"
    }
   },
   "outputs": [
    {
     "data": {
      "text/html": [
       "<div>\n",
       "<style scoped>\n",
       "    .dataframe tbody tr th:only-of-type {\n",
       "        vertical-align: middle;\n",
       "    }\n",
       "\n",
       "    .dataframe tbody tr th {\n",
       "        vertical-align: top;\n",
       "    }\n",
       "\n",
       "    .dataframe thead th {\n",
       "        text-align: right;\n",
       "    }\n",
       "</style>\n",
       "<table border=\"1\" class=\"dataframe\">\n",
       "  <thead>\n",
       "    <tr style=\"text-align: right;\">\n",
       "      <th></th>\n",
       "      <th>index</th>\n",
       "      <th>ProductName</th>\n",
       "      <th>Quantity</th>\n",
       "    </tr>\n",
       "  </thead>\n",
       "  <tbody>\n",
       "    <tr>\n",
       "      <th>0</th>\n",
       "      <td>123</td>\n",
       "      <td>Olive - Spread Tapenade</td>\n",
       "      <td>3</td>\n",
       "    </tr>\n",
       "    <tr>\n",
       "      <th>1</th>\n",
       "      <td>175</td>\n",
       "      <td>Sprouts - Baby Pea Tendrils</td>\n",
       "      <td>3</td>\n",
       "    </tr>\n",
       "    <tr>\n",
       "      <th>2</th>\n",
       "      <td>201</td>\n",
       "      <td>Wine - Blue Nun Qualitatswein</td>\n",
       "      <td>3</td>\n",
       "    </tr>\n",
       "    <tr>\n",
       "      <th>4</th>\n",
       "      <td>134</td>\n",
       "      <td>Pepper - Black, Whole</td>\n",
       "      <td>3</td>\n",
       "    </tr>\n",
       "    <tr>\n",
       "      <th>5</th>\n",
       "      <td>168</td>\n",
       "      <td>Soup - Campbells Bean Medley</td>\n",
       "      <td>3</td>\n",
       "    </tr>\n",
       "  </tbody>\n",
       "</table>\n",
       "</div>"
      ],
      "text/plain": [
       "   index                    ProductName  Quantity\n",
       "0    123        Olive - Spread Tapenade         3\n",
       "1    175    Sprouts - Baby Pea Tendrils         3\n",
       "2    201  Wine - Blue Nun Qualitatswein         3\n",
       "4    134          Pepper - Black, Whole         3\n",
       "5    168   Soup - Campbells Bean Medley         3"
      ]
     },
     "execution_count": 19,
     "metadata": {},
     "output_type": "execute_result"
    }
   ],
   "source": [
    "# List of already bought products\n",
    "bought = list(data.ProductName.loc[(data.CustomerID == 412)])\n",
    "\n",
    "# Filtering the dataframe by products that are not in the list\n",
    "s7 = s6.loc[~s6.ProductName.isin(bought)]\n",
    "s7.head()"
   ]
  },
  {
   "cell_type": "code",
   "execution_count": 36,
   "metadata": {
    "ExecuteTime": {
     "end_time": "2019-09-17T14:56:30.459355Z",
     "start_time": "2019-09-17T14:56:30.443649Z"
    }
   },
   "outputs": [
    {
     "data": {
      "text/plain": [
       "['Scallops - Live In Shell',\n",
       " 'Chicken - Soup Base',\n",
       " 'Veal - Inside',\n",
       " 'Pepper - Paprika, Hungarian',\n",
       " 'Puree - Mocha']"
      ]
     },
     "execution_count": 36,
     "metadata": {},
     "output_type": "execute_result"
    }
   ],
   "source": [
    "list(s7.ProductName.head())"
   ]
  },
  {
   "cell_type": "markdown",
   "metadata": {},
   "source": [
    "## Step 8: Now that we have generated product recommendations for a single user, put the pieces together and iterate over a list of all CustomerIDs.\n",
    "\n",
    "- Create an empty dictionary that will hold the recommendations for all customers.\n",
    "- Create a list of unique CustomerIDs to iterate over.\n",
    "- Iterate over the customer list performing steps 4 through 7 for each and appending the results of each iteration to the dictionary you created."
   ]
  },
  {
   "cell_type": "code",
   "execution_count": 37,
   "metadata": {
    "ExecuteTime": {
     "end_time": "2019-09-17T14:57:02.245963Z",
     "start_time": "2019-09-17T14:56:56.066134Z"
    }
   },
   "outputs": [],
   "source": [
    "recommendations = {}\n",
    "customers = list(data.CustomerID.value_counts().index)\n",
    "for i in customers:\n",
    "        similarities = distances[i].sort_values(ascending=False)[1:6]\n",
    "        s5 = s1.loc[s1.CustomerID.isin(list(similarities.index))]\n",
    "        s6 = s5[['ProductName', 'Quantity']].groupby('ProductName', as_index=False).agg('sum').sort_values(by='Quantity', ascending=False)\n",
    "        bought = list(data.ProductName.loc[(data.CustomerID == i)])\n",
    "        s7 = s6.loc[~s6.ProductName.isin(bought)]\n",
    "        recommendations[i] = list(s7.ProductName.head())"
   ]
  },
  {
   "cell_type": "markdown",
   "metadata": {},
   "source": [
    "##  Step 9: Store the results in a Pandas data frame. The data frame should a column for Customer ID and then a column for each of the 5 product recommendations for each customer."
   ]
  },
  {
   "cell_type": "code",
   "execution_count": 39,
   "metadata": {
    "ExecuteTime": {
     "end_time": "2019-09-17T14:57:15.695882Z",
     "start_time": "2019-09-17T14:57:15.677665Z"
    }
   },
   "outputs": [
    {
     "data": {
      "text/html": [
       "<div>\n",
       "<style scoped>\n",
       "    .dataframe tbody tr th:only-of-type {\n",
       "        vertical-align: middle;\n",
       "    }\n",
       "\n",
       "    .dataframe tbody tr th {\n",
       "        vertical-align: top;\n",
       "    }\n",
       "\n",
       "    .dataframe thead th {\n",
       "        text-align: right;\n",
       "    }\n",
       "</style>\n",
       "<table border=\"1\" class=\"dataframe\">\n",
       "  <thead>\n",
       "    <tr style=\"text-align: right;\">\n",
       "      <th></th>\n",
       "      <th>CustomerID</th>\n",
       "      <th>Rec1</th>\n",
       "      <th>Rec2</th>\n",
       "      <th>Rec3</th>\n",
       "      <th>Rec4</th>\n",
       "      <th>Rec5</th>\n",
       "    </tr>\n",
       "  </thead>\n",
       "  <tbody>\n",
       "    <tr>\n",
       "      <th>0</th>\n",
       "      <td>33759</td>\n",
       "      <td>Coconut - Shredded, Sweet</td>\n",
       "      <td>Shrimp - 31/40</td>\n",
       "      <td>Lambcasing</td>\n",
       "      <td>Bread - French Baquette</td>\n",
       "      <td>Pecan Raisin - Tarts</td>\n",
       "    </tr>\n",
       "    <tr>\n",
       "      <th>1</th>\n",
       "      <td>60862</td>\n",
       "      <td>Onions - Vidalia</td>\n",
       "      <td>Chips Potato Salt Vinegar 43g</td>\n",
       "      <td>Pepsi - Diet, 355 Ml</td>\n",
       "      <td>Sugar - Fine</td>\n",
       "      <td>Wine - Valpolicella Masi</td>\n",
       "    </tr>\n",
       "    <tr>\n",
       "      <th>2</th>\n",
       "      <td>29287</td>\n",
       "      <td>Beer - Sleemans Cream Ale</td>\n",
       "      <td>Bread - Italian Corn Meal Poly</td>\n",
       "      <td>Table Cloth 54x72 White</td>\n",
       "      <td>Cheese - Wine</td>\n",
       "      <td>Cookie - Dough Variety</td>\n",
       "    </tr>\n",
       "    <tr>\n",
       "      <th>3</th>\n",
       "      <td>8711</td>\n",
       "      <td>Sauce - Hollandaise</td>\n",
       "      <td>Soup - Campbells Tomato Ravioli</td>\n",
       "      <td>Dried Figs</td>\n",
       "      <td>Salmon - Sockeye Raw</td>\n",
       "      <td>Veal - Eye Of Round</td>\n",
       "    </tr>\n",
       "    <tr>\n",
       "      <th>4</th>\n",
       "      <td>63086</td>\n",
       "      <td>Sausage - Liver</td>\n",
       "      <td>Beef - Top Sirloin - Aaa</td>\n",
       "      <td>Oil - Shortening - All - Purpose</td>\n",
       "      <td>Sardines</td>\n",
       "      <td>Wine - Red, Colio Cabernet</td>\n",
       "    </tr>\n",
       "  </tbody>\n",
       "</table>\n",
       "</div>"
      ],
      "text/plain": [
       "   CustomerID                       Rec1                             Rec2  \\\n",
       "0       33759  Coconut - Shredded, Sweet                   Shrimp - 31/40   \n",
       "1       60862           Onions - Vidalia    Chips Potato Salt Vinegar 43g   \n",
       "2       29287  Beer - Sleemans Cream Ale   Bread - Italian Corn Meal Poly   \n",
       "3        8711        Sauce - Hollandaise  Soup - Campbells Tomato Ravioli   \n",
       "4       63086            Sausage - Liver         Beef - Top Sirloin - Aaa   \n",
       "\n",
       "                               Rec3                     Rec4  \\\n",
       "0                        Lambcasing  Bread - French Baquette   \n",
       "1              Pepsi - Diet, 355 Ml             Sugar - Fine   \n",
       "2           Table Cloth 54x72 White            Cheese - Wine   \n",
       "3                        Dried Figs     Salmon - Sockeye Raw   \n",
       "4  Oil - Shortening - All - Purpose                 Sardines   \n",
       "\n",
       "                         Rec5  \n",
       "0        Pecan Raisin - Tarts  \n",
       "1    Wine - Valpolicella Masi  \n",
       "2      Cookie - Dough Variety  \n",
       "3         Veal - Eye Of Round  \n",
       "4  Wine - Red, Colio Cabernet  "
      ]
     },
     "execution_count": 39,
     "metadata": {},
     "output_type": "execute_result"
    }
   ],
   "source": [
    "item_recs = pd.DataFrame.from_dict(recommendations, orient='index').reset_index()\n",
    "item_recs.columns = ['CustomerID', 'Rec1', 'Rec2', 'Rec3', 'Rec4', 'Rec5']\n",
    "item_recs.head()"
   ]
  },
  {
   "cell_type": "markdown",
   "metadata": {},
   "source": [
    "## Step 10: Change the distance metric used in Step 3 to something other than euclidean (correlation, cityblock, consine, jaccard, etc.). Regenerate the recommendations for all customers and note the differences."
   ]
  },
  {
   "cell_type": "markdown",
   "metadata": {},
   "source": [
    "#### Cosine"
   ]
  },
  {
   "cell_type": "code",
   "execution_count": 40,
   "metadata": {
    "ExecuteTime": {
     "end_time": "2019-09-17T14:59:57.552746Z",
     "start_time": "2019-09-17T14:59:57.387935Z"
    }
   },
   "outputs": [],
   "source": [
    "distances = pd.DataFrame(1/(1 + squareform(pdist(s2, 'cosine'))), \n",
    "                         index=s2.index, columns=s2.index)"
   ]
  },
  {
   "cell_type": "code",
   "execution_count": 41,
   "metadata": {
    "ExecuteTime": {
     "end_time": "2019-09-17T15:00:04.603243Z",
     "start_time": "2019-09-17T14:59:58.318004Z"
    }
   },
   "outputs": [],
   "source": [
    "recommendations = {}\n",
    "customers = list(data.CustomerID.value_counts().index)\n",
    "for i in customers:\n",
    "        similarities = distances[i].sort_values(ascending=False)[1:6]\n",
    "        s5 = s1.loc[s1.CustomerID.isin(list(similarities.index))]\n",
    "        s6 = s5[['ProductName', 'Quantity']].groupby('ProductName', as_index=False).agg('sum').sort_values(by='Quantity', ascending=False)\n",
    "        bought = list(data.ProductName.loc[(data.CustomerID == i)])\n",
    "        s7 = s6.loc[~s6.ProductName.isin(bought)]\n",
    "        recommendations[i] = list(s7.ProductName.head())"
   ]
  },
  {
   "cell_type": "code",
   "execution_count": 42,
   "metadata": {
    "ExecuteTime": {
     "end_time": "2019-09-17T15:00:07.261581Z",
     "start_time": "2019-09-17T15:00:07.243999Z"
    }
   },
   "outputs": [
    {
     "data": {
      "text/html": [
       "<div>\n",
       "<style scoped>\n",
       "    .dataframe tbody tr th:only-of-type {\n",
       "        vertical-align: middle;\n",
       "    }\n",
       "\n",
       "    .dataframe tbody tr th {\n",
       "        vertical-align: top;\n",
       "    }\n",
       "\n",
       "    .dataframe thead th {\n",
       "        text-align: right;\n",
       "    }\n",
       "</style>\n",
       "<table border=\"1\" class=\"dataframe\">\n",
       "  <thead>\n",
       "    <tr style=\"text-align: right;\">\n",
       "      <th></th>\n",
       "      <th>CustomerID</th>\n",
       "      <th>Rec1</th>\n",
       "      <th>Rec2</th>\n",
       "      <th>Rec3</th>\n",
       "      <th>Rec4</th>\n",
       "      <th>Rec5</th>\n",
       "    </tr>\n",
       "  </thead>\n",
       "  <tbody>\n",
       "    <tr>\n",
       "      <th>0</th>\n",
       "      <td>33759</td>\n",
       "      <td>Truffle Cups - Brown</td>\n",
       "      <td>Flavouring - Orange</td>\n",
       "      <td>Tia Maria</td>\n",
       "      <td>Beans - Wax</td>\n",
       "      <td>Beef - Texas Style Burger</td>\n",
       "    </tr>\n",
       "    <tr>\n",
       "      <th>1</th>\n",
       "      <td>60862</td>\n",
       "      <td>Snapple Lemon Tea</td>\n",
       "      <td>Coconut - Shredded, Sweet</td>\n",
       "      <td>Ketchup - Tomato</td>\n",
       "      <td>Rabbit - Whole</td>\n",
       "      <td>Foam Cup 6 Oz</td>\n",
       "    </tr>\n",
       "    <tr>\n",
       "      <th>2</th>\n",
       "      <td>29287</td>\n",
       "      <td>Dc Hikiage Hira Huba</td>\n",
       "      <td>Beans - Kidney, Canned</td>\n",
       "      <td>Oil - Shortening - All - Purpose</td>\n",
       "      <td>Assorted Desserts</td>\n",
       "      <td>Chestnuts - Whole,canned</td>\n",
       "    </tr>\n",
       "    <tr>\n",
       "      <th>3</th>\n",
       "      <td>8711</td>\n",
       "      <td>Veal - Sweetbread</td>\n",
       "      <td>Wine - Redchard Merritt</td>\n",
       "      <td>Yogurt - French Vanilla</td>\n",
       "      <td>Cream Of Tartar</td>\n",
       "      <td>Olive - Spread Tapenade</td>\n",
       "    </tr>\n",
       "    <tr>\n",
       "      <th>4</th>\n",
       "      <td>63086</td>\n",
       "      <td>Pecan Raisin - Tarts</td>\n",
       "      <td>Mangoes</td>\n",
       "      <td>Truffle Cups - Brown</td>\n",
       "      <td>Crackers - Trio</td>\n",
       "      <td>Tea - Jasmin Green</td>\n",
       "    </tr>\n",
       "  </tbody>\n",
       "</table>\n",
       "</div>"
      ],
      "text/plain": [
       "   CustomerID                  Rec1                       Rec2  \\\n",
       "0       33759  Truffle Cups - Brown        Flavouring - Orange   \n",
       "1       60862     Snapple Lemon Tea  Coconut - Shredded, Sweet   \n",
       "2       29287  Dc Hikiage Hira Huba     Beans - Kidney, Canned   \n",
       "3        8711     Veal - Sweetbread    Wine - Redchard Merritt   \n",
       "4       63086  Pecan Raisin - Tarts                    Mangoes   \n",
       "\n",
       "                               Rec3               Rec4  \\\n",
       "0                         Tia Maria        Beans - Wax   \n",
       "1                  Ketchup - Tomato     Rabbit - Whole   \n",
       "2  Oil - Shortening - All - Purpose  Assorted Desserts   \n",
       "3           Yogurt - French Vanilla    Cream Of Tartar   \n",
       "4              Truffle Cups - Brown    Crackers - Trio   \n",
       "\n",
       "                        Rec5  \n",
       "0  Beef - Texas Style Burger  \n",
       "1              Foam Cup 6 Oz  \n",
       "2   Chestnuts - Whole,canned  \n",
       "3    Olive - Spread Tapenade  \n",
       "4         Tea - Jasmin Green  "
      ]
     },
     "execution_count": 42,
     "metadata": {},
     "output_type": "execute_result"
    }
   ],
   "source": [
    "item_recs = pd.DataFrame.from_dict(recommendations, orient='index').reset_index()\n",
    "item_recs.columns = ['CustomerID', 'Rec1', 'Rec2', 'Rec3', 'Rec4', 'Rec5']\n",
    "item_recs.head()"
   ]
  },
  {
   "cell_type": "markdown",
   "metadata": {},
   "source": [
    "#### Manhattan "
   ]
  },
  {
   "cell_type": "code",
   "execution_count": 45,
   "metadata": {
    "ExecuteTime": {
     "end_time": "2019-09-17T15:01:41.436144Z",
     "start_time": "2019-09-17T15:01:41.265891Z"
    }
   },
   "outputs": [],
   "source": [
    "distances = pd.DataFrame(1/(1 + squareform(pdist(s2, 'cityblock'))), \n",
    "                         index=s2.index, columns=s2.index)"
   ]
  },
  {
   "cell_type": "code",
   "execution_count": 46,
   "metadata": {
    "ExecuteTime": {
     "end_time": "2019-09-17T15:01:49.352859Z",
     "start_time": "2019-09-17T15:01:42.727107Z"
    }
   },
   "outputs": [],
   "source": [
    "recommendations = {}\n",
    "customers = list(data.CustomerID.value_counts().index)\n",
    "for i in customers:\n",
    "        similarities = distances[i].sort_values(ascending=False)[1:6]\n",
    "        s5 = s1.loc[s1.CustomerID.isin(list(similarities.index))]\n",
    "        s6 = s5[['ProductName', 'Quantity']].groupby('ProductName', as_index=False).agg('sum').sort_values(by='Quantity', ascending=False)\n",
    "        bought = list(data.ProductName.loc[(data.CustomerID == i)])\n",
    "        s7 = s6.loc[~s6.ProductName.isin(bought)]\n",
    "        recommendations[i] = list(s7.ProductName.head())"
   ]
  },
  {
   "cell_type": "code",
   "execution_count": 47,
   "metadata": {
    "ExecuteTime": {
     "end_time": "2019-09-17T15:01:49.458896Z",
     "start_time": "2019-09-17T15:01:49.447341Z"
    }
   },
   "outputs": [
    {
     "data": {
      "text/html": [
       "<div>\n",
       "<style scoped>\n",
       "    .dataframe tbody tr th:only-of-type {\n",
       "        vertical-align: middle;\n",
       "    }\n",
       "\n",
       "    .dataframe tbody tr th {\n",
       "        vertical-align: top;\n",
       "    }\n",
       "\n",
       "    .dataframe thead th {\n",
       "        text-align: right;\n",
       "    }\n",
       "</style>\n",
       "<table border=\"1\" class=\"dataframe\">\n",
       "  <thead>\n",
       "    <tr style=\"text-align: right;\">\n",
       "      <th></th>\n",
       "      <th>CustomerID</th>\n",
       "      <th>Rec1</th>\n",
       "      <th>Rec2</th>\n",
       "      <th>Rec3</th>\n",
       "      <th>Rec4</th>\n",
       "      <th>Rec5</th>\n",
       "    </tr>\n",
       "  </thead>\n",
       "  <tbody>\n",
       "    <tr>\n",
       "      <th>0</th>\n",
       "      <td>33759</td>\n",
       "      <td>Muffin - Carrot Individual Wrap</td>\n",
       "      <td>Cheese - Brie, Triple Creme</td>\n",
       "      <td>Soup - Campbells Tomato Ravioli</td>\n",
       "      <td>Halibut - Steaks</td>\n",
       "      <td>Ice Cream Bar - Hageen Daz To</td>\n",
       "    </tr>\n",
       "    <tr>\n",
       "      <th>1</th>\n",
       "      <td>60862</td>\n",
       "      <td>Pork - Bacon, Double Smoked</td>\n",
       "      <td>Nut - Chestnuts, Whole</td>\n",
       "      <td>Butter - Unsalted</td>\n",
       "      <td>Soup - Campbells Bean Medley</td>\n",
       "      <td>Salsify, Organic</td>\n",
       "    </tr>\n",
       "    <tr>\n",
       "      <th>2</th>\n",
       "      <td>29287</td>\n",
       "      <td>Table Cloth 54x72 White</td>\n",
       "      <td>Salsify, Organic</td>\n",
       "      <td>Foam Dinner Plate</td>\n",
       "      <td>V8 - Berry Blend</td>\n",
       "      <td>Milk Powder</td>\n",
       "    </tr>\n",
       "    <tr>\n",
       "      <th>3</th>\n",
       "      <td>8711</td>\n",
       "      <td>Pork - Kidney</td>\n",
       "      <td>Wine - White, Colubia Cresh</td>\n",
       "      <td>Sauce - Hollandaise</td>\n",
       "      <td>Veal - Eye Of Round</td>\n",
       "      <td>Soup - Campbells Tomato Ravioli</td>\n",
       "    </tr>\n",
       "    <tr>\n",
       "      <th>4</th>\n",
       "      <td>63086</td>\n",
       "      <td>Bar Mix - Pina Colada, 355 Ml</td>\n",
       "      <td>Ice Cream Bar - Hageen Daz To</td>\n",
       "      <td>Black Currants</td>\n",
       "      <td>Beer - Original Organic Lager</td>\n",
       "      <td>Spoon - Soup, Plastic</td>\n",
       "    </tr>\n",
       "  </tbody>\n",
       "</table>\n",
       "</div>"
      ],
      "text/plain": [
       "   CustomerID                             Rec1                           Rec2  \\\n",
       "0       33759  Muffin - Carrot Individual Wrap    Cheese - Brie, Triple Creme   \n",
       "1       60862      Pork - Bacon, Double Smoked         Nut - Chestnuts, Whole   \n",
       "2       29287          Table Cloth 54x72 White               Salsify, Organic   \n",
       "3        8711                    Pork - Kidney    Wine - White, Colubia Cresh   \n",
       "4       63086    Bar Mix - Pina Colada, 355 Ml  Ice Cream Bar - Hageen Daz To   \n",
       "\n",
       "                              Rec3                           Rec4  \\\n",
       "0  Soup - Campbells Tomato Ravioli               Halibut - Steaks   \n",
       "1                Butter - Unsalted   Soup - Campbells Bean Medley   \n",
       "2                Foam Dinner Plate               V8 - Berry Blend   \n",
       "3              Sauce - Hollandaise            Veal - Eye Of Round   \n",
       "4                   Black Currants  Beer - Original Organic Lager   \n",
       "\n",
       "                              Rec5  \n",
       "0    Ice Cream Bar - Hageen Daz To  \n",
       "1                 Salsify, Organic  \n",
       "2                      Milk Powder  \n",
       "3  Soup - Campbells Tomato Ravioli  \n",
       "4            Spoon - Soup, Plastic  "
      ]
     },
     "execution_count": 47,
     "metadata": {},
     "output_type": "execute_result"
    }
   ],
   "source": [
    "item_recs = pd.DataFrame.from_dict(recommendations, orient='index').reset_index()\n",
    "item_recs.columns = ['CustomerID', 'Rec1', 'Rec2', 'Rec3', 'Rec4', 'Rec5']\n",
    "item_recs.head()"
   ]
  },
  {
   "cell_type": "code",
   "execution_count": null,
   "metadata": {},
   "outputs": [],
   "source": []
  }
 ],
 "metadata": {
  "hide_input": false,
  "kernelspec": {
   "display_name": "Python 3",
   "language": "python",
   "name": "python3"
  },
  "language_info": {
   "codemirror_mode": {
    "name": "ipython",
    "version": 3
   },
   "file_extension": ".py",
   "mimetype": "text/x-python",
   "name": "python",
   "nbconvert_exporter": "python",
   "pygments_lexer": "ipython3",
   "version": "3.6.8"
  },
  "toc": {
   "base_numbering": 1,
   "nav_menu": {},
   "number_sections": true,
   "sideBar": true,
   "skip_h1_title": false,
   "title_cell": "Table of Contents",
   "title_sidebar": "Contents",
   "toc_cell": false,
   "toc_position": {},
   "toc_section_display": true,
   "toc_window_display": false
  },
  "varInspector": {
   "cols": {
    "lenName": 16,
    "lenType": 16,
    "lenVar": 40
   },
   "kernels_config": {
    "python": {
     "delete_cmd_postfix": "",
     "delete_cmd_prefix": "del ",
     "library": "var_list.py",
     "varRefreshCmd": "print(var_dic_list())"
    },
    "r": {
     "delete_cmd_postfix": ") ",
     "delete_cmd_prefix": "rm(",
     "library": "var_list.r",
     "varRefreshCmd": "cat(var_dic_list()) "
    }
   },
   "types_to_exclude": [
    "module",
    "function",
    "builtin_function_or_method",
    "instance",
    "_Feature"
   ],
   "window_display": false
  }
 },
 "nbformat": 4,
 "nbformat_minor": 2
}
